{
  "nbformat": 4,
  "nbformat_minor": 0,
  "metadata": {
    "colab": {
      "provenance": []
    },
    "kernelspec": {
      "name": "python3",
      "display_name": "Python 3"
    },
    "language_info": {
      "name": "python"
    }
  },
  "cells": [
    {
      "cell_type": "markdown",
      "source": [
        "## Label Encoding of Nominal Data"
      ],
      "metadata": {
        "id": "pRmfXzGcV8kz"
      }
    },
    {
      "cell_type": "code",
      "execution_count": 1,
      "metadata": {
        "colab": {
          "base_uri": "https://localhost:8080/"
        },
        "id": "fdofCvyLKEXY",
        "outputId": "fed048d3-d60d-4734-bb02-64d7c383a765"
      },
      "outputs": [
        {
          "output_type": "execute_result",
          "data": {
            "text/plain": [
              "array([1, 2, 6])"
            ]
          },
          "metadata": {},
          "execution_count": 1
        }
      ],
      "source": [
        "# LabelEncoder from sklearn.preprocessing is used to convert categorical labels into numeric values (integers)\n",
        "# It’s usually used for ordinal data (or target variables in classification)\n",
        "\n",
        "# If numbers represent names, labels, or IDs → it's nominal\n",
        "# If numbers represent counts, measurements, or order → it’s numeric or ordinal\n",
        "from sklearn.preprocessing import LabelEncoder\n",
        "\n",
        "# Method\t              What it does\t                                                  When to use\n",
        "# .fit()\t              Learns the encoding (e.g., maps categories to numbers)\t        First time you train on data\n",
        "# .transform()\t        Applies the learned encoding to new data\t                      Reuses the learned mapping\n",
        "# .fit_transform()     \tDoes both .fit() and .transform() together\t                    Use on training data to fit and encode\n",
        "\n",
        "# 1. Instantiate LabelEncoder\n",
        "x = LabelEncoder()\n",
        "\n",
        "# 2. Fit data to encoder\n",
        "x.fit([1, 1, 2, 6]) #sorts unique values before mapping them to indices\n",
        "# 2nd step:\n",
        "# Takes the array [1, 1, 2, 6].\n",
        "\n",
        "# Finds the unique sorted values → [1, 2, 6]\n",
        "\n",
        "# Internally maps:\n",
        "\n",
        "# 1 → 0\n",
        "\n",
        "# 2 → 1\n",
        "\n",
        "# 6 → 2\n",
        "\n",
        "# This mapping will be used when you call transform().\n",
        "\n",
        "# So in the future, if you do x.transform([1, 2, 6]), you’ll get [0, 1, 2].\n",
        "\n",
        "\n",
        "# 3. Get unique classes\n",
        "x.classes_\n",
        "# Class 1 will be encoded as 0\n",
        "\n",
        "# Class 2 will be encoded as 1\n",
        "\n",
        "# Class 6 will be encoded as 2"
      ]
    },
    {
      "cell_type": "code",
      "source": [
        "# Transforming labels to normalized encoding through \"transform()\"\n",
        "\n",
        "x.transform([1, 1, 2, 6])"
      ],
      "metadata": {
        "colab": {
          "base_uri": "https://localhost:8080/"
        },
        "id": "2HHpIQKzKa0R",
        "outputId": "f3796db8-fb97-4210-8cfa-f17032c0a6ff"
      },
      "execution_count": 3,
      "outputs": [
        {
          "output_type": "execute_result",
          "data": {
            "text/plain": [
              "array([0, 0, 1, 2])"
            ]
          },
          "metadata": {},
          "execution_count": 3
        }
      ]
    },
    {
      "cell_type": "code",
      "source": [
        "# Transforming encoding back to original labels using \"inverse_transform()\" function\n",
        "x.inverse_transform([0, 0, 1, 2])"
      ],
      "metadata": {
        "colab": {
          "base_uri": "https://localhost:8080/"
        },
        "id": "epPJ-NsfLKAW",
        "outputId": "bb616ea6-98cf-4069-a43e-f9f6b6b290d6"
      },
      "execution_count": 5,
      "outputs": [
        {
          "output_type": "execute_result",
          "data": {
            "text/plain": [
              "array([1, 1, 2, 6])"
            ]
          },
          "metadata": {},
          "execution_count": 5
        }
      ]
    },
    {
      "cell_type": "markdown",
      "source": [
        "## Label Encoding of Categorical Data"
      ],
      "metadata": {
        "id": "DGVzljtvWIu0"
      }
    },
    {
      "cell_type": "code",
      "source": [
        "# Instantiate label_encoder object\n",
        "y = LabelEncoder()\n",
        "# Fitting data\n",
        "y.fit([\"paris\", \"paris\", \"tokyo\", \"amsterdam\"])\n",
        "# Getting unique classes from above fitted data in the form of list\n",
        "list(y.classes_)"
      ],
      "metadata": {
        "colab": {
          "base_uri": "https://localhost:8080/"
        },
        "id": "-_kUzO54WK0I",
        "outputId": "6b080911-aae6-4698-ccab-b34ffef2a99e"
      },
      "execution_count": 10,
      "outputs": [
        {
          "output_type": "execute_result",
          "data": {
            "text/plain": [
              "[np.str_('amsterdam'), np.str_('paris'), np.str_('tokyo')]"
            ]
          },
          "metadata": {},
          "execution_count": 10
        }
      ]
    },
    {
      "cell_type": "code",
      "source": [
        "# Transforming labels to normalized encoding through \"transform()\"function\n",
        "y.transform([\"tokyo\", \"tokyo\", \"paris\"])"
      ],
      "metadata": {
        "colab": {
          "base_uri": "https://localhost:8080/"
        },
        "id": "hVaI4dF-Wf6O",
        "outputId": "69e92bc6-310f-4e92-9239-044b345d158a"
      },
      "execution_count": 12,
      "outputs": [
        {
          "output_type": "execute_result",
          "data": {
            "text/plain": [
              "array([2, 2, 1])"
            ]
          },
          "metadata": {},
          "execution_count": 12
        }
      ]
    },
    {
      "cell_type": "code",
      "source": [
        "# Transforming encoding back to original labels using \"inverse_transform()\" function in the form of list\n",
        "list(y.inverse_transform([2, 2, 1]))"
      ],
      "metadata": {
        "colab": {
          "base_uri": "https://localhost:8080/"
        },
        "id": "nHGv3qIyXFe4",
        "outputId": "63c88024-f1d7-4f98-fd52-57b0b93bfc43"
      },
      "execution_count": 14,
      "outputs": [
        {
          "output_type": "execute_result",
          "data": {
            "text/plain": [
              "[np.str_('tokyo'), np.str_('tokyo'), np.str_('paris')]"
            ]
          },
          "metadata": {},
          "execution_count": 14
        }
      ]
    },
    {
      "cell_type": "markdown",
      "source": [
        "## Gender Identification"
      ],
      "metadata": {
        "id": "_6hoECq-ajML"
      }
    },
    {
      "cell_type": "code",
      "source": [
        "import pandas as pd\n",
        "from sklearn.preprocessing import LabelEncoder\n",
        "\n",
        "# dataset\n",
        "data = {\n",
        "    'Height': [180.3, 170.0, 178.5, 163.4, 175.2222, 165.0],\n",
        "    'Weight': [196, 120, 200, 110, 220, 150],\n",
        "    'Hair': ['Bald', 'Long', 'Short', 'Medium', 'Short', 'Medium'],\n",
        "    'Beard': ['Yes', 'No', 'No', 'No', 'Yes', 'No'],\n",
        "    'Scarf': ['No', 'No', 'No', 'Yes', 'No', 'Yes'],\n",
        "    'Gender': ['Male', 'Female', 'Male', 'Female', 'Male', 'Female']\n",
        "}\n",
        "\n",
        "# Create dataframe\n",
        "train_dataset = pd.DataFrame(data)\n",
        "\n",
        "# Copies\n",
        "train_dataset_encoded = train_dataset.copy()\n",
        "train_dataset_original = train_dataset.copy()\n",
        "\n",
        "# Encoders\n",
        "hair_label_encoder = LabelEncoder()\n",
        "gender_label_encoder = LabelEncoder()\n",
        "scarf_label_encoder = LabelEncoder()\n",
        "beard_label_encoder = LabelEncoder()\n",
        "\n",
        "# Encoding\n",
        "train_dataset[\"encoded_gender\"] = gender_label_encoder.fit_transform(train_dataset['Gender'])\n",
        "train_dataset[\"encoded_scarf\"] = scarf_label_encoder.fit_transform(train_dataset['Scarf'])\n",
        "train_dataset[\"encoded_beard\"] = beard_label_encoder.fit_transform(train_dataset['Beard'])\n",
        "train_dataset[\"encoded_hair\"] = hair_label_encoder.fit_transform(train_dataset['Hair'])\n",
        "# no need to create height and weight's label encoder as they are already in numeric form\n",
        "\n",
        "# Final encoded dataset\n",
        "train_dataset_encoded[['Hair', 'Beard', 'Scarf', 'Gender']] = train_dataset[['encoded_hair', 'encoded_beard', 'encoded_scarf', 'encoded_gender']]\n",
        "# We use double brackets when selecting or assigning multiple columns in a DataFrame to ensure that we're working with a 2D structure (DataFrame) instead of a 1D structure (Series).\n",
        "\n",
        "# Save encoded dataset as CSV\n",
        "encoded_csv_path = \"train_dataset_encoded.csv\"\n",
        "train_dataset_encoded.to_csv(encoded_csv_path, index=False)\n",
        "\n",
        "print(\"Original Data:\\n\", train_dataset_original)\n",
        "print(\"\\nEncoded Data:\\n\", train_dataset_encoded)\n",
        "print(f\"\\nCSV file saved as: {encoded_csv_path}\")\n"
      ],
      "metadata": {
        "colab": {
          "base_uri": "https://localhost:8080/"
        },
        "id": "8QG2Xeugalvx",
        "outputId": "11bad4e2-2e3a-49dd-8b59-2bae76284b37"
      },
      "execution_count": 17,
      "outputs": [
        {
          "output_type": "stream",
          "name": "stdout",
          "text": [
            "Original Data:\n",
            "      Height  Weight    Hair Beard Scarf  Gender\n",
            "0  180.3000     196    Bald   Yes    No    Male\n",
            "1  170.0000     120    Long    No    No  Female\n",
            "2  178.5000     200   Short    No    No    Male\n",
            "3  163.4000     110  Medium    No   Yes  Female\n",
            "4  175.2222     220   Short   Yes    No    Male\n",
            "5  165.0000     150  Medium    No   Yes  Female\n",
            "\n",
            "Encoded Data:\n",
            "      Height  Weight  Hair  Beard  Scarf  Gender\n",
            "0  180.3000     196     0      1      0       1\n",
            "1  170.0000     120     1      0      0       0\n",
            "2  178.5000     200     3      0      0       1\n",
            "3  163.4000     110     2      0      1       0\n",
            "4  175.2222     220     3      1      0       1\n",
            "5  165.0000     150     2      0      1       0\n",
            "\n",
            "CSV file saved as: train_dataset_encoded.csv\n"
          ]
        }
      ]
    },
    {
      "cell_type": "code",
      "source": [],
      "metadata": {
        "id": "fACKyKBlbTLy"
      },
      "execution_count": null,
      "outputs": []
    }
  ]
}