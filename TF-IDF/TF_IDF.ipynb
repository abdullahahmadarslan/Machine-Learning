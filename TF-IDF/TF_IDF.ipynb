{
  "nbformat": 4,
  "nbformat_minor": 0,
  "metadata": {
    "colab": {
      "provenance": []
    },
    "kernelspec": {
      "name": "python3",
      "display_name": "Python 3"
    },
    "language_info": {
      "name": "python"
    }
  },
  "cells": [
    {
      "cell_type": "markdown",
      "source": [
        "#💡TF-IDF:\n",
        "TF-IDF = Term Frequency - Inverse Document Frequency\n",
        "\n",
        "Term Frequency (TF):\n",
        "How often a word appears in a document.\n",
        "\n",
        "Inverse Document Frequency (IDF):\n",
        "How rare a word is across all documents (gives more importance to unique words).\n",
        "\n",
        "🔍 TF-IDF gives higher weight to words that appear frequently in a specific document, but not across all documents.\n",
        "\n",
        "🧪 TF-IDF Formula Breakdown (with smooth_idf=False):\n",
        "💥 TF-IDF(w, d) = TF(w, d) × IDF(w)\n",
        "Where:\n",
        "\n",
        "TF(w, d) = Term frequency of word w in document d\n",
        "\n",
        "IDF(w) = log(N / df(w))\n",
        "\n",
        "N = total number of documents\n",
        "\n",
        "df(w) = number of documents containing word w\n",
        "\n"
      ],
      "metadata": {
        "id": "v3XrwvjGeCWt"
      }
    },
    {
      "cell_type": "markdown",
      "source": [
        "##📌keypoints:\n",
        "\n",
        "If a word appears in every document, its IDF = 0 ➝ TF-IDF = 0 ✅\n",
        "\n",
        "If a word appears in only one document, its IDF is high ➝ TF-IDF = high ✅\n",
        "\n",
        "Stop words have low or 0 TF-IDF score ➝ they’re often removed ❌"
      ],
      "metadata": {
        "id": "tScL9OQpha6x"
      }
    },
    {
      "cell_type": "code",
      "execution_count": 4,
      "metadata": {
        "colab": {
          "base_uri": "https://localhost:8080/"
        },
        "id": "jdzMKBI2d7i7",
        "outputId": "939be72e-d222-493f-855f-c8483e147885"
      },
      "outputs": [
        {
          "output_type": "stream",
          "name": "stdout",
          "text": [
            "TF-IDF Matrix (use_idf=True, smooth_idf=False, ngram_range=(1,1)):\n",
            "\n",
            "         ai    enjoy   future     great  learning     love   machine  \\\n",
            "0  0.000000  0.00000  0.00000  0.000000  0.373635  0.69241  0.491286   \n",
            "1  0.000000  0.00000  0.00000  0.660648  0.000000  0.00000  0.000000   \n",
            "2  0.491286  0.69241  0.00000  0.000000  0.373635  0.00000  0.000000   \n",
            "3  0.468049  0.00000  0.65966  0.000000  0.355963  0.00000  0.468049   \n",
            "\n",
            "   powerful    python  \n",
            "0  0.000000  0.373635  \n",
            "1  0.660648  0.356496  \n",
            "2  0.000000  0.373635  \n",
            "3  0.000000  0.000000  \n"
          ]
        }
      ],
      "source": [
        "from sklearn.feature_extraction.text import TfidfVectorizer\n",
        "import pandas as pd\n",
        "\n",
        "# Sample documents(corpus)\n",
        "documents = [\n",
        "    \"I love Python and machine learning\",\n",
        "    \"Python is great and powerful\",\n",
        "    \"I enjoy learning about AI and Python\",\n",
        "    \"Machine learning and AI are the future\"\n",
        "]\n",
        "\n",
        "# Create TfidfVectorizer with specific parameters\n",
        "vectorizer = TfidfVectorizer(\n",
        "    stop_words='english',        # Removes common stop words like 'I', 'and', 'the'\n",
        "    use_idf=True,                # Use Inverse Document Frequency in calculation\n",
        "    smooth_idf=False,            # Do NOT smooth IDF, i.e., no +1 in denominator\n",
        "    ngram_range=(1, 1)           # Only single words (unigrams), no bigrams/trigrams\n",
        ")\n",
        "\n",
        "# Learn vocabulary and compute TF-IDF matrix\n",
        "tfidf_matrix = vectorizer.fit_transform(documents) #Tokenizes each document\n",
        "                                                   #Builds a vocabulary\n",
        "                                                   #Computes TF-IDF scores for each word in each document\n",
        "\n",
        "\n",
        "# Convert to DataFrame for better readability\n",
        "feature_names = vectorizer.get_feature_names_out()\n",
        "df = pd.DataFrame(tfidf_matrix.toarray(), columns=feature_names)\n",
        "\n",
        "# Print the final TF-IDF matrix\n",
        "print(\"TF-IDF Matrix (use_idf=True, smooth_idf=False, ngram_range=(1,1)):\\n\")\n",
        "print(df)\n"
      ]
    },
    {
      "cell_type": "markdown",
      "source": [
        "##📌Use Cases\n",
        "Document Classification\n",
        "\n",
        "Search Engines (ranking pages)\n",
        "\n",
        "Keyword Extraction\n",
        "\n",
        "Spam Detection\n",
        "\n",
        "Sentiment Analysis\n",
        "\n"
      ],
      "metadata": {
        "id": "_YkcBE6peEUU"
      }
    },
    {
      "cell_type": "markdown",
      "source": [],
      "metadata": {
        "id": "pW4599Othkfp"
      }
    }
  ]
}